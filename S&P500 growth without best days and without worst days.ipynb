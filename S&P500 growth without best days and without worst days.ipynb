{
 "cells": [
  {
   "cell_type": "code",
   "execution_count": 1,
   "metadata": {},
   "outputs": [],
   "source": [
    "from IPython.display import HTML"
   ]
  },
  {
   "cell_type": "code",
   "execution_count": 2,
   "metadata": {},
   "outputs": [
    {
     "data": {
      "text/html": [
       "<script>\n",
       "code_show=true; \n",
       "function code_toggle() {\n",
       " if (code_show){\n",
       " $('div.input').hide();\n",
       " } else {\n",
       " $('div.input').show();\n",
       " }\n",
       " code_show = !code_show\n",
       "} \n",
       "$( document ).ready(code_toggle);\n",
       "</script>\n",
       "The raw code for this IPython notebook is by default hidden for easier reading.\n",
       "To toggle on/off the raw code, click <a href=\"javascript:code_toggle()\">here</a>."
      ],
      "text/plain": [
       "<IPython.core.display.HTML object>"
      ]
     },
     "execution_count": 2,
     "metadata": {},
     "output_type": "execute_result"
    }
   ],
   "source": [
    "HTML('''<script>\n",
    "code_show=true; \n",
    "function code_toggle() {\n",
    " if (code_show){\n",
    " $('div.input').hide();\n",
    " } else {\n",
    " $('div.input').show();\n",
    " }\n",
    " code_show = !code_show\n",
    "} \n",
    "$( document ).ready(code_toggle);\n",
    "</script>\n",
    "The raw code for this IPython notebook is by default hidden for easier reading.\n",
    "To toggle on/off the raw code, click <a href=\"javascript:code_toggle()\">here</a>.''')"
   ]
  },
  {
   "cell_type": "markdown",
   "metadata": {},
   "source": [
    "# We analize the growth of 1000$ invested in S&P 500 (total return) between 1990 and 2017 included.\n",
    "## The annualized compound total return was about 9,8%.\n",
    "## In our analysis we used the log returns to exploit the additive property, but conclusion are the same.\n",
    "\n",
    "### What would have been the growth if we had excluded the best days and the worst days from our trading strategy?\n",
    "\n",
    "<b> We took the data from yahoo database <br></b>\n",
    "<b> <u>We have substitute the missed worst days and the missed best days with a return equal to 0. </u> </b>"
   ]
  },
  {
   "cell_type": "code",
   "execution_count": 3,
   "metadata": {},
   "outputs": [],
   "source": [
    "import matplotlib.pyplot as plt\n",
    "import numpy as np, pandas as pd\n",
    "import warnings\n",
    "warnings.filterwarnings('ignore')\n",
    "import seaborn as sns\n",
    "sns.set_style(\"whitegrid\")"
   ]
  },
  {
   "cell_type": "code",
   "execution_count": 4,
   "metadata": {},
   "outputs": [],
   "source": [
    "df1 = pd.read_csv('^SP500TR.csv')\n",
    "df1.set_index('Date', inplace = True)\n",
    "df1.index = pd.to_datetime(df1.index)"
   ]
  },
  {
   "cell_type": "code",
   "execution_count": 5,
   "metadata": {},
   "outputs": [],
   "source": [
    "df = df1.copy()"
   ]
  },
  {
   "cell_type": "code",
   "execution_count": 6,
   "metadata": {},
   "outputs": [],
   "source": [
    "log_rets = (np.log(df['Adj Close']) - np.log(df['Adj Close'].shift(1)))[1:]"
   ]
  },
  {
   "cell_type": "code",
   "execution_count": 7,
   "metadata": {},
   "outputs": [],
   "source": [
    "def growth_without_worstdays(df1):  \n",
    "    wealths = []\n",
    "    total_log_ret = np.sum(df1)\n",
    "    final_wealth = np.exp(total_log_ret)*1000\n",
    "    print('Growth of 1000$ from 1990 to 2017: {}$'.format((np.exp(total_log_ret)*1000).round(2)))\n",
    "    print()\n",
    "    df = df1.copy()\n",
    "    wealths.append(final_wealth)\n",
    "    missed_worst_days = [1,5,15,25]\n",
    "    for n in missed_worst_days:        \n",
    "        values_to_convert_in_zero = df.sort_values().values[:n]\n",
    "        log_rets_minus_n_worstdays = df.where(df > values_to_convert_in_zero.max(),0.)\n",
    "        total_log_ret = np.sum(log_rets_minus_n_worstdays)\n",
    "        final_wealth = np.exp(total_log_ret)*1000\n",
    "        wealths.append(final_wealth)\n",
    "        print('Growth of 1000$ without {} worst days: {}$'.format(n, final_wealth.round(2)))\n",
    "        print()\n",
    "    fig, ax = plt.subplots(figsize=(10,8))\n",
    "    xpos = [i+1 for i,_ in enumerate(missed_worst_days)]\n",
    "    sns.barplot([0]+xpos, wealths, ax = ax)  \n",
    "    for i,t in zip(ax.patches,wealths):\n",
    "    # get_x pulls left or right; get_height pushes up or down\n",
    "        ax.text(i.get_x()+.2, i.get_height()+10, \\\n",
    "                str(int(t))+' $', fontsize=15,\n",
    "                    color='yellow', backgroundcolor = 'black' )\n",
    "    plt.xticks([0]+xpos, ['Total period'] + missed_worst_days, fontsize = 'large')\n",
    "    plt.xlabel('Missed worst days', fontsize = 'xx-large')\n",
    "    plt.ylabel('Growth of 1000$', fontsize = 'xx-large')\n",
    "    plt.title('Performance of S&P 500 Index (TR), 1990-2017 ',fontsize = 'x-large',color = 'yellow',backgroundcolor = 'black')\n",
    "    return None"
   ]
  },
  {
   "cell_type": "markdown",
   "metadata": {},
   "source": [
    "## Let's start excluding the worst days of the S&P500 Index"
   ]
  },
  {
   "cell_type": "code",
   "execution_count": 8,
   "metadata": {},
   "outputs": [
    {
     "name": "stdout",
     "output_type": "stream",
     "text": [
      "Growth of 1000$ from 1990 to 2017: 13498.96$\n",
      "\n",
      "Growth of 1000$ without 1 worst days: 14838.25$\n",
      "\n",
      "Growth of 1000$ without 5 worst days: 20758.77$\n",
      "\n",
      "Growth of 1000$ without 15 worst days: 38363.65$\n",
      "\n",
      "Growth of 1000$ without 25 worst days: 62102.83$\n",
      "\n"
     ]
    },
    {
     "data": {
      "image/png": "[encoded data removed]",
      "text/plain": [
       "<Figure size 720x576 with 1 Axes>"
      ]
     },
     "metadata": {
      "needs_background": "light"
     },
     "output_type": "display_data"
    }
   ],
   "source": [
    "growth_without_worstdays(log_rets)"
   ]
  },
  {
   "cell_type": "code",
   "execution_count": 9,
   "metadata": {},
   "outputs": [],
   "source": [
    "def growth_without_bestdays(df1):  \n",
    "    wealths = []\n",
    "    total_log_ret = np.sum(df1)\n",
    "    final_wealth = np.exp(total_log_ret)*1000\n",
    "    print('Growth of 1000$ from 1990 to 2017: {}$'.format((np.exp(total_log_ret)*1000).round(2)))\n",
    "    print()\n",
    "    df = df1.copy()\n",
    "    wealths.append(final_wealth)\n",
    "    missed_best_days = [1,5,15,25]\n",
    "    for n in missed_best_days:        \n",
    "        values_to_convert_in_zero = df.sort_values(ascending = False).values[:n]\n",
    "        log_rets_plus_n_bestdays = df.where(df < values_to_convert_in_zero.min(),0.)\n",
    "        total_log_ret = np.sum(log_rets_plus_n_bestdays)\n",
    "        final_wealth = np.exp(total_log_ret)*1000\n",
    "        wealths.append(final_wealth)\n",
    "        print('Growth of 1000$ without {} best days: {}$'.format(n, final_wealth.round(2)))\n",
    "        print()\n",
    "    fig, ax = plt.subplots(figsize=(10,8))\n",
    "    xpos = [i+1 for i,_ in enumerate(missed_best_days)]\n",
    "    sns.barplot([0]+xpos, wealths, ax = ax)  \n",
    "    for i,t in zip(ax.patches,wealths):\n",
    "    # get_x pulls left or right; get_height pushes up or down\n",
    "        ax.text(i.get_x()+.2, i.get_height()+10, \\\n",
    "                str(int(t))+' $', fontsize=15,\n",
    "                    color='yellow', backgroundcolor = 'black' )   \n",
    "    plt.xticks([0]+xpos, ['Total period'] + missed_best_days, fontsize = 'large')\n",
    "    plt.xlabel('Missed best days', fontsize = 'xx-large')\n",
    "    plt.ylabel('Growth of 1000$', fontsize = 'xx-large')\n",
    "    plt.title('Performance of S&P 500 Index (TR), 1990-2017 ',fontsize = 'x-large', color = 'yellow',backgroundcolor = 'black')\n",
    "    return None"
   ]
  },
  {
   "cell_type": "markdown",
   "metadata": {},
   "source": [
    "## Now we exclude the best days of the S&P 500 Index"
   ]
  },
  {
   "cell_type": "code",
   "execution_count": 10,
   "metadata": {},
   "outputs": [
    {
     "name": "stdout",
     "output_type": "stream",
     "text": [
      "Growth of 1000$ from 1990 to 2017: 13498.96$\n",
      "\n",
      "Growth of 1000$ without 1 best days: 12097.89$\n",
      "\n",
      "Growth of 1000$ without 5 best days: 8955.13$\n",
      "\n",
      "Growth of 1000$ without 15 best days: 5271.07$\n",
      "\n",
      "Growth of 1000$ without 25 best days: 3394.13$\n",
      "\n"
     ]
    },
    {
     "data": {
      "image/png": "[encoded data removed]",
      "text/plain": [
       "<Figure size 720x576 with 1 Axes>"
      ]
     },
     "metadata": {
      "needs_background": "light"
     },
     "output_type": "display_data"
    }
   ],
   "source": [
    "growth_without_bestdays(log_rets)"
   ]
  },
  {
   "cell_type": "markdown",
   "metadata": {},
   "source": [
    "### <font color = 'black'> <u>So it's more important to avoid the worst days than to enter in the best days. </u> </font>"
   ]
  },
  {
   "cell_type": "code",
   "execution_count": null,
   "metadata": {},
   "outputs": [],
   "source": []
  },
  {
   "cell_type": "code",
   "execution_count": null,
   "metadata": {},
   "outputs": [],
   "source": []
  },
  {
   "cell_type": "code",
   "execution_count": null,
   "metadata": {},
   "outputs": [],
   "source": []
  }
 ],
 "metadata": {
  "kernelspec": {
   "display_name": "Python 3",
   "language": "python",
   "name": "python3"
  },
  "language_info": {
   "codemirror_mode": {
    "name": "ipython",
    "version": 3
   },
   "file_extension": ".py",
   "mimetype": "text/x-python",
   "name": "python",
   "nbconvert_exporter": "python",
   "pygments_lexer": "ipython3",
   "version": "3.7.1"
  }
 },
 "nbformat": 4,
 "nbformat_minor": 2
}
